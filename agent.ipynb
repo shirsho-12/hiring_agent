{
  "cells": [
    {
      "cell_type": "markdown",
      "id": "6a7698d9",
      "metadata": {},
      "source": [
        "## Resume Anonymization"
      ]
    },
    {
      "cell_type": "code",
      "execution_count": 1,
      "id": "60e691cd",
      "metadata": {},
      "outputs": [
        {
          "name": "stdout",
          "output_type": "stream",
          "text": [
            "Path to dataset files: /Users/socialaistudio/Code/hiring_agent/data/kagglehub/datasets/snehaanbhawal/resume-dataset/versions/1\n"
          ]
        }
      ],
      "source": [
        "import kagglehub\n",
        "import os\n",
        "from pathlib import Path\n",
        "os.environ[\"KAGGLEHUB_CACHE\"] = str(Path.cwd() / \"data\" / \"kagglehub\")\n",
        "\n",
        "import pandas as pd\n",
        "\n",
        "path = kagglehub.dataset_download(\"snehaanbhawal/resume-dataset\")\n",
        "\n",
        "print(\"Path to dataset files:\", path)"
      ]
    },
    {
      "cell_type": "code",
      "execution_count": 2,
      "id": "074cca60",
      "metadata": {},
      "outputs": [
        {
          "data": {
            "text/html": [
              "<div>\n",
              "<style scoped>\n",
              "    .dataframe tbody tr th:only-of-type {\n",
              "        vertical-align: middle;\n",
              "    }\n",
              "\n",
              "    .dataframe tbody tr th {\n",
              "        vertical-align: top;\n",
              "    }\n",
              "\n",
              "    .dataframe thead th {\n",
              "        text-align: right;\n",
              "    }\n",
              "</style>\n",
              "<table border=\"1\" class=\"dataframe\">\n",
              "  <thead>\n",
              "    <tr style=\"text-align: right;\">\n",
              "      <th></th>\n",
              "      <th>Category</th>\n",
              "      <th>resume</th>\n",
              "    </tr>\n",
              "  </thead>\n",
              "  <tbody>\n",
              "    <tr>\n",
              "      <th>0</th>\n",
              "      <td>HR</td>\n",
              "      <td>HR ADMINISTRATOR/MARKETING ASSOCIATE\\...</td>\n",
              "    </tr>\n",
              "    <tr>\n",
              "      <th>1</th>\n",
              "      <td>HR</td>\n",
              "      <td>HR SPECIALIST, US HR OPERATIONS      ...</td>\n",
              "    </tr>\n",
              "    <tr>\n",
              "      <th>2</th>\n",
              "      <td>HR</td>\n",
              "      <td>HR DIRECTOR       Summary      Over 2...</td>\n",
              "    </tr>\n",
              "    <tr>\n",
              "      <th>3</th>\n",
              "      <td>HR</td>\n",
              "      <td>HR SPECIALIST       Summary    Dedica...</td>\n",
              "    </tr>\n",
              "    <tr>\n",
              "      <th>4</th>\n",
              "      <td>HR</td>\n",
              "      <td>HR MANAGER         Skill Highlights  ...</td>\n",
              "    </tr>\n",
              "  </tbody>\n",
              "</table>\n",
              "</div>"
            ],
            "text/plain": [
              "  Category                                             resume\n",
              "0       HR           HR ADMINISTRATOR/MARKETING ASSOCIATE\\...\n",
              "1       HR           HR SPECIALIST, US HR OPERATIONS      ...\n",
              "2       HR           HR DIRECTOR       Summary      Over 2...\n",
              "3       HR           HR SPECIALIST       Summary    Dedica...\n",
              "4       HR           HR MANAGER         Skill Highlights  ..."
            ]
          },
          "execution_count": 2,
          "metadata": {},
          "output_type": "execute_result"
        }
      ],
      "source": [
        "resume_df = pd.read_csv(path + \"/Resume/resume.csv\")\n",
        "resume_df.drop(columns=['ID', 'Resume_html'], inplace=True)\n",
        "resume_df.rename(columns={'Resume_str': 'resume'}, inplace=True)\n",
        "resume_df = resume_df[['Category', 'resume']]\n",
        "resume_df.head()"
      ]
    },
    {
      "cell_type": "code",
      "execution_count": 3,
      "id": "e9d2a9c3",
      "metadata": {},
      "outputs": [
        {
          "data": {
            "text/plain": [
              "(array(['HR', 'DESIGNER', 'INFORMATION-TECHNOLOGY', 'TEACHER', 'ADVOCATE',\n",
              "        'BUSINESS-DEVELOPMENT', 'HEALTHCARE', 'FITNESS', 'AGRICULTURE',\n",
              "        'BPO', 'SALES', 'CONSULTANT', 'DIGITAL-MEDIA', 'AUTOMOBILE',\n",
              "        'CHEF', 'FINANCE', 'APPAREL', 'ENGINEERING', 'ACCOUNTANT',\n",
              "        'CONSTRUCTION', 'PUBLIC-RELATIONS', 'BANKING', 'ARTS', 'AVIATION'],\n",
              "       dtype=object),\n",
              " 24)"
            ]
          },
          "execution_count": 3,
          "metadata": {},
          "output_type": "execute_result"
        }
      ],
      "source": [
        "# resume_df.iloc[0].resume\n",
        "resume_df.Category.unique(), len(resume_df.Category.unique())"
      ]
    },
    {
      "cell_type": "code",
      "execution_count": 4,
      "id": "e328bae8",
      "metadata": {},
      "outputs": [
        {
          "data": {
            "text/html": [
              "<div>\n",
              "<style scoped>\n",
              "    .dataframe tbody tr th:only-of-type {\n",
              "        vertical-align: middle;\n",
              "    }\n",
              "\n",
              "    .dataframe tbody tr th {\n",
              "        vertical-align: top;\n",
              "    }\n",
              "\n",
              "    .dataframe thead th {\n",
              "        text-align: right;\n",
              "    }\n",
              "</style>\n",
              "<table border=\"1\" class=\"dataframe\">\n",
              "  <thead>\n",
              "    <tr style=\"text-align: right;\">\n",
              "      <th></th>\n",
              "      <th>Category</th>\n",
              "      <th>resume</th>\n",
              "    </tr>\n",
              "  </thead>\n",
              "  <tbody>\n",
              "    <tr>\n",
              "      <th>0</th>\n",
              "      <td>HR</td>\n",
              "      <td>ASSISTANT MANAGER - HR            www...</td>\n",
              "    </tr>\n",
              "    <tr>\n",
              "      <th>1</th>\n",
              "      <td>HR</td>\n",
              "      <td>HR ASSISTANT       Summary    Highly ...</td>\n",
              "    </tr>\n",
              "    <tr>\n",
              "      <th>2</th>\n",
              "      <td>DESIGNER</td>\n",
              "      <td>SENIOR GRAPHIC DESIGNER       Summary...</td>\n",
              "    </tr>\n",
              "    <tr>\n",
              "      <th>3</th>\n",
              "      <td>DESIGNER</td>\n",
              "      <td>WEBSITE DESIGNER         Summary     ...</td>\n",
              "    </tr>\n",
              "    <tr>\n",
              "      <th>4</th>\n",
              "      <td>INFORMATION-TECHNOLOGY</td>\n",
              "      <td>INFORMATION TECHNOLOGY SPECIALIST (IN...</td>\n",
              "    </tr>\n",
              "  </tbody>\n",
              "</table>\n",
              "</div>"
            ],
            "text/plain": [
              "                 Category                                             resume\n",
              "0                      HR           ASSISTANT MANAGER - HR            www...\n",
              "1                      HR           HR ASSISTANT       Summary    Highly ...\n",
              "2                DESIGNER           SENIOR GRAPHIC DESIGNER       Summary...\n",
              "3                DESIGNER           WEBSITE DESIGNER         Summary     ...\n",
              "4  INFORMATION-TECHNOLOGY           INFORMATION TECHNOLOGY SPECIALIST (IN..."
            ]
          },
          "execution_count": 4,
          "metadata": {},
          "output_type": "execute_result"
        }
      ],
      "source": [
        "# Select 2 resume samples from each category\n",
        "sampled_resumes = pd.concat([resume_df[resume_df.Category == cat].sample(\n",
        "    2, random_state=42) for cat in resume_df.Category.unique()\n",
        "]).reset_index(drop=True)\n",
        "sampled_resumes.head(5)"
      ]
    },
    {
      "cell_type": "code",
      "execution_count": 12,
      "id": "84a001c0",
      "metadata": {},
      "outputs": [
        {
          "name": "stdout",
          "output_type": "stream",
          "text": [
            "Number of CONSTRUCTION resumes: 112\n"
          ]
        },
        {
          "data": {
            "text/html": [
              "<div>\n",
              "<style scoped>\n",
              "    .dataframe tbody tr th:only-of-type {\n",
              "        vertical-align: middle;\n",
              "    }\n",
              "\n",
              "    .dataframe tbody tr th {\n",
              "        vertical-align: top;\n",
              "    }\n",
              "\n",
              "    .dataframe thead th {\n",
              "        text-align: right;\n",
              "    }\n",
              "</style>\n",
              "<table border=\"1\" class=\"dataframe\">\n",
              "  <thead>\n",
              "    <tr style=\"text-align: right;\">\n",
              "      <th></th>\n",
              "      <th>Category</th>\n",
              "      <th>resume</th>\n",
              "    </tr>\n",
              "  </thead>\n",
              "  <tbody>\n",
              "    <tr>\n",
              "      <th>0</th>\n",
              "      <td>CONSTRUCTION</td>\n",
              "      <td>CONSTRUCTION       Executive Summary ...</td>\n",
              "    </tr>\n",
              "    <tr>\n",
              "      <th>1</th>\n",
              "      <td>CONSTRUCTION</td>\n",
              "      <td>CONSTRUCTION       Summary    The pur...</td>\n",
              "    </tr>\n",
              "    <tr>\n",
              "      <th>2</th>\n",
              "      <td>CONSTRUCTION</td>\n",
              "      <td>CONSTRUCTION             Experience  ...</td>\n",
              "    </tr>\n",
              "    <tr>\n",
              "      <th>3</th>\n",
              "      <td>CONSTRUCTION</td>\n",
              "      <td>CONCRETE CONSTRUCTION         Summary...</td>\n",
              "    </tr>\n",
              "    <tr>\n",
              "      <th>4</th>\n",
              "      <td>CONSTRUCTION</td>\n",
              "      <td>CONSTRUCTION WORK         Career Over...</td>\n",
              "    </tr>\n",
              "  </tbody>\n",
              "</table>\n",
              "</div>"
            ],
            "text/plain": [
              "       Category                                             resume\n",
              "0  CONSTRUCTION           CONSTRUCTION       Executive Summary ...\n",
              "1  CONSTRUCTION           CONSTRUCTION       Summary    The pur...\n",
              "2  CONSTRUCTION           CONSTRUCTION             Experience  ...\n",
              "3  CONSTRUCTION           CONCRETE CONSTRUCTION         Summary...\n",
              "4  CONSTRUCTION           CONSTRUCTION WORK         Career Over..."
            ]
          },
          "execution_count": 12,
          "metadata": {},
          "output_type": "execute_result"
        }
      ],
      "source": [
        "# select all resumes from 'CONSTRUCTION' category\n",
        "SECTOR = \"CONSTRUCTION\"\n",
        "sector_resumes = resume_df[resume_df.Category == 'CONSTRUCTION'].reset_index(drop=True)\n",
        "print(f\"Number of {SECTOR} resumes: {len(sector_resumes)}\")\n",
        "sector_resumes.head(5)"
      ]
    },
    {
      "cell_type": "code",
      "execution_count": 5,
      "id": "b7e2d7d3",
      "metadata": {},
      "outputs": [
        {
          "data": {
            "text/html": [
              "<div>\n",
              "<style scoped>\n",
              "    .dataframe tbody tr th:only-of-type {\n",
              "        vertical-align: middle;\n",
              "    }\n",
              "\n",
              "    .dataframe tbody tr th {\n",
              "        vertical-align: top;\n",
              "    }\n",
              "\n",
              "    .dataframe thead th {\n",
              "        text-align: right;\n",
              "    }\n",
              "</style>\n",
              "<table border=\"1\" class=\"dataframe\">\n",
              "  <thead>\n",
              "    <tr style=\"text-align: right;\">\n",
              "      <th></th>\n",
              "      <th>Category</th>\n",
              "      <th>resume</th>\n",
              "    </tr>\n",
              "  </thead>\n",
              "  <tbody>\n",
              "    <tr>\n",
              "      <th>0</th>\n",
              "      <td>TEACHER</td>\n",
              "      <td>Kpandipou    Koffi         Summary ...</td>\n",
              "    </tr>\n",
              "    <tr>\n",
              "      <th>1</th>\n",
              "      <td>DIGITAL-MEDIA</td>\n",
              "      <td>DIRECTOR OF DIGITAL TRANSFORMATION   ...</td>\n",
              "    </tr>\n",
              "  </tbody>\n",
              "</table>\n",
              "</div>"
            ],
            "text/plain": [
              "        Category                                             resume\n",
              "0        TEACHER             Kpandipou    Koffi         Summary ...\n",
              "1  DIGITAL-MEDIA           DIRECTOR OF DIGITAL TRANSFORMATION   ..."
            ]
          },
          "execution_count": 5,
          "metadata": {},
          "output_type": "execute_result"
        }
      ],
      "source": [
        "\n",
        "# create a subsample of 5 resumes for testing\n",
        "subsampled_resumes = resume_df.sample(2, random_state=42).reset_index(drop=True)\n",
        "subsampled_resumes.head(2)"
      ]
    },
    {
      "cell_type": "code",
      "execution_count": 15,
      "id": "58da0b35",
      "metadata": {},
      "outputs": [
        {
          "name": "stderr",
          "output_type": "stream",
          "text": [
            "100%|██████████| 6/6 [13:45<00:00, 137.64s/it]\n"
          ]
        }
      ],
      "source": [
        "from src.utils.pipeline_utils import batch_process_resumes\n",
        "from tqdm import tqdm\n",
        "# batch in groups of 20 resumes to avoid timeout\n",
        "processed_resumes = {}\n",
        "batch_size = 20\n",
        "for i in tqdm(range(0, len(sector_resumes), batch_size)):\n",
        "    batch = sector_resumes.resume.iloc[i:i+batch_size]\n",
        "    batch_result = batch_process_resumes(batch, country=\"Singapore\")\n",
        "    processed_resumes.update(batch_result)\n",
        "# add the processed resumes to sampled_resumes dataframe as new columns\n",
        "# for key in processed_resumes[0].keys():\n",
        "#     subsampled_resumes[key] = [dct[key] for dct in processed_resumes]\n",
        "# subsampled_resumes.head(5)"
      ]
    },
    {
      "cell_type": "code",
      "execution_count": 16,
      "id": "926311d7",
      "metadata": {},
      "outputs": [
        {
          "data": {
            "text/plain": [
              "(112,\n",
              " {'anonymized': '## Anonymized Resume\\n\\n**CONSTRUCTION Executive Summary**  \\nTo find an internship in the profession where I can gain experience in and exposure to the practice of product design.\\n\\n**Core Qualifications**  \\n- Adobe Photoshop and Illustrator  \\n- AutoCAD and Revit  \\n- Microsoft Word, Excel, and PowerPoint  \\n\\n**Professional Experience**  \\n\\n**Aug 2006 to Current**  \\n[COMPANY X]  \\n[LOCATION]  \\nHigh Value Residential Insurance Appraiser  \\n- Appraise high value homes in [STATE] for a replacement cost.  \\n\\n**Jul 2005 to Jan 2006**  \\n[COMPANY Y]  \\n[LOCATION]  \\n- Extensive remodeling project.  \\n\\n**Nov 2004**  \\n[COMPANY Z]  \\n[LOCATION]  \\n- Internship supporting interior design/project teams, researching materials, and organizing the materials resource library.  \\n\\n**Jan 1999 to Jan 2000**  \\n[COMPANY A]  \\n[LOCATION]  \\nAccounts Payable Assistant  \\n- Handling petty cash, data entry, payroll distribution, and other administrative duties.  \\n\\n**Education**  \\n\\n**BFA, Product Design**  \\nPresent  \\n[UNIVERSITY]  \\n[LOCATION]  \\n\\n**Bachelor of Interior Architecture, Business Administration**  \\n2005  \\n[UNIVERSITY]  \\n[LOCATION]  \\n\\n**Undeclared**  \\n2003  \\n[UNIVERSITY]  \\n[LOCATION]  \\n\\n**Undeclared**  \\n1999  \\n[UNIVERSITY]  \\n[LOCATION]  \\n\\n**Objects and Impacts**  \\n- Digital Illustration  \\n- Interior Construction Elements  \\n- Furniture Theory and Analysis  \\n- Color Theory and Application  \\n\\n**Rome Program**  \\n\\n**Skills**  \\n- Administrative duties  \\n- Adobe Photoshop  \\n- AutoCAD  \\n- Color  \\n- Data entry  \\n- Digital Illustration  \\n- Illustrator  \\n- Inspection  \\n- Insurance  \\n- Interior design  \\n- Materials  \\n- Excel  \\n- PowerPoint  \\n- Microsoft Word  \\n- Organizing  \\n- Payroll  \\n- Researching  \\n- Revit  ',\n",
              "  'reformatted': '```markdown\\n[Candidate Name]\\n\\n## Executive Summary  \\nSeeking an internship in the field of product design to gain valuable experience and exposure to industry practices.\\n\\n## Core Qualifications  \\n- Proficient in Adobe Photoshop and Illustrator  \\n- Skilled in AutoCAD and Revit  \\n- Experienced with Microsoft Word, Excel, and PowerPoint  \\n\\n## Professional Experience  \\n\\n**High Value Residential Insurance Appraiser**  \\n[COMPANY X], [LOCATION]  \\nAug 2006 - Present  \\n- Appraise high-value homes in [STATE] for replacement cost assessments.  \\n\\n**Remodeling Project Assistant**  \\n[COMPANY Y], [LOCATION]  \\nJul 2005 - Jan 2006  \\n- Contributed to extensive remodeling projects.  \\n\\n**Intern**  \\n[COMPANY Z], [LOCATION]  \\nNov 2004  \\n- Supported interior design and project teams by researching materials and organizing the materials resource library.  \\n\\n**Accounts Payable Assistant**  \\n[COMPANY A], [LOCATION]  \\nJan 1999 - Jan 2000  \\n- Managed petty cash, data entry, payroll distribution, and other administrative duties.  \\n\\n## Education  \\n\\n**BFA in Product Design**  \\n[UNIVERSITY], [LOCATION]  \\nExpected Graduation: Present  \\n\\n**Bachelor of Interior Architecture and Business Administration**  \\n[UNIVERSITY], [LOCATION]  \\nGraduated: 2005  \\n\\n**Undeclared Major**  \\n[UNIVERSITY], [LOCATION]  \\n1999 - 2003  \\n\\n## Relevant Coursework  \\n- Digital Illustration  \\n- Interior Construction Elements  \\n- Furniture Theory and Analysis  \\n- Color Theory and Application  \\n\\n## Rome Program  \\n\\n## Skills  \\n- Administrative duties  \\n- Adobe Photoshop  \\n- AutoCAD  \\n- Color theory  \\n- Data entry  \\n- Digital illustration  \\n- Adobe Illustrator  \\n- Inspection  \\n- Insurance knowledge  \\n- Interior design  \\n- Material research  \\n- Microsoft Excel  \\n- Microsoft PowerPoint  \\n- Microsoft Word  \\n- Organizational skills  \\n- Payroll management  \\n- Research skills  \\n- Revit  \\n```\\n',\n",
              "  'localized': '```markdown\\n[Candidate Name]\\n\\n## Executive Summary  \\nSeeking an internship in the field of product design to gain valuable experience and exposure to industry practices in Singapore.\\n\\n## Core Qualifications  \\n- Proficient in Adobe Photoshop and Illustrator  \\n- Skilled in AutoCAD and Revit  \\n- Experienced with Microsoft Word, Excel, and PowerPoint  \\n\\n## Professional Experience  \\n\\n**High Value Residential Insurance Appraiser**  \\nAIG Singapore, Singapore  \\nAugust 2006 - Present  \\n- Appraise high-value homes in Singapore for replacement cost assessments.  \\n\\n**Remodeling Project Assistant**  \\nKohler, Singapore  \\nJuly 2005 - January 2006  \\n- Contributed to extensive remodeling projects.  \\n\\n**Intern**  \\nHerman Miller, Singapore  \\nNovember 2004  \\n- Supported interior design and project teams by researching materials and organizing the materials resource library.  \\n\\n**Accounts Payable Assistant**  \\nDBS Bank, Singapore  \\nJanuary 1999 - January 2000  \\n- Managed petty cash, data entry, payroll distribution, and other administrative duties.  \\n\\n## Education  \\n\\n**Bachelor of Fine Arts in Product Design**  \\nLasalle College of the Arts, Singapore  \\nExpected Graduation: Present  \\n\\n**Bachelor of Arts in Interior Architecture and Business Administration**  \\nNational University of Singapore, Singapore  \\nGraduated: 2005  \\n\\n**Undeclared Major**  \\nSingapore Management University, Singapore  \\n1999 - 2003  \\n\\n## Relevant Coursework  \\n- Digital Illustration  \\n- Interior Construction Elements  \\n- Furniture Theory and Analysis  \\n- Color Theory and Application  \\n\\n## Skills  \\n- Administrative duties  \\n- Adobe Photoshop  \\n- AutoCAD  \\n- Color theory  \\n- Data entry  \\n- Digital illustration  \\n- Adobe Illustrator  \\n- Inspection  \\n- Insurance knowledge  \\n- Interior design  \\n- Material research  \\n- Microsoft Excel  \\n- Microsoft PowerPoint  \\n- Microsoft Word  \\n- Organizational skills  \\n- Payroll management  \\n- Research skills  \\n- Revit  \\n```'})"
            ]
          },
          "execution_count": 16,
          "metadata": {},
          "output_type": "execute_result"
        }
      ],
      "source": [
        "len(processed_resumes), processed_resumes[0]"
      ]
    },
    {
      "cell_type": "code",
      "execution_count": 17,
      "id": "32e7c648",
      "metadata": {},
      "outputs": [
        {
          "data": {
            "text/html": [
              "<div>\n",
              "<style scoped>\n",
              "    .dataframe tbody tr th:only-of-type {\n",
              "        vertical-align: middle;\n",
              "    }\n",
              "\n",
              "    .dataframe tbody tr th {\n",
              "        vertical-align: top;\n",
              "    }\n",
              "\n",
              "    .dataframe thead th {\n",
              "        text-align: right;\n",
              "    }\n",
              "</style>\n",
              "<table border=\"1\" class=\"dataframe\">\n",
              "  <thead>\n",
              "    <tr style=\"text-align: right;\">\n",
              "      <th></th>\n",
              "      <th>Category</th>\n",
              "      <th>resume</th>\n",
              "      <th>anonymized</th>\n",
              "      <th>reformatted</th>\n",
              "      <th>localized</th>\n",
              "    </tr>\n",
              "  </thead>\n",
              "  <tbody>\n",
              "    <tr>\n",
              "      <th>0</th>\n",
              "      <td>CONSTRUCTION</td>\n",
              "      <td>CONSTRUCTION       Executive Summary ...</td>\n",
              "      <td>## Anonymized Resume\\n\\n**CONSTRUCTION Executi...</td>\n",
              "      <td>```markdown\\n[Candidate Name]\\n\\n## Executive ...</td>\n",
              "      <td>```markdown\\n[Candidate Name]\\n\\n## Executive ...</td>\n",
              "    </tr>\n",
              "    <tr>\n",
              "      <th>1</th>\n",
              "      <td>CONSTRUCTION</td>\n",
              "      <td>CONSTRUCTION       Summary    The pur...</td>\n",
              "      <td>## ANONYMIZED RESUME\\n\\n**Summary**  \\nThe pur...</td>\n",
              "      <td>```markdown\\n## [Candidate Name]\\n\\n**Summary*...</td>\n",
              "      <td>```markdown\\n## [Candidate Name]\\n\\n**Summary*...</td>\n",
              "    </tr>\n",
              "    <tr>\n",
              "      <th>2</th>\n",
              "      <td>CONSTRUCTION</td>\n",
              "      <td>CONSTRUCTION             Experience  ...</td>\n",
              "      <td>## Anonymized Resume\\n\\n**CONSTRUCTION Experie...</td>\n",
              "      <td>```markdown\\n## [Candidate Name]\\n\\n**CONSTRUC...</td>\n",
              "      <td>```markdown\\n## [Candidate Name]\\n\\n**CONSTRUC...</td>\n",
              "    </tr>\n",
              "    <tr>\n",
              "      <th>3</th>\n",
              "      <td>CONSTRUCTION</td>\n",
              "      <td>CONCRETE CONSTRUCTION         Summary...</td>\n",
              "      <td>## Anonymized Resume\\n\\n**CONCRETE CONSTRUCTIO...</td>\n",
              "      <td>```markdown\\n## [Candidate Name]\\n\\n**CONCRETE...</td>\n",
              "      <td>```markdown\\n## [Candidate Name]\\n\\n**CONCRETE...</td>\n",
              "    </tr>\n",
              "    <tr>\n",
              "      <th>4</th>\n",
              "      <td>CONSTRUCTION</td>\n",
              "      <td>CONSTRUCTION WORK         Career Over...</td>\n",
              "      <td>## Anonymized Resume\\n\\n**CONSTRUCTION WORK**\\...</td>\n",
              "      <td>```markdown\\n## [Candidate Name]\\n\\n**CONSTRUC...</td>\n",
              "      <td>```markdown\\n## [Candidate Name]\\n\\n**CONSTRUC...</td>\n",
              "    </tr>\n",
              "  </tbody>\n",
              "</table>\n",
              "</div>"
            ],
            "text/plain": [
              "       Category                                             resume  \\\n",
              "0  CONSTRUCTION           CONSTRUCTION       Executive Summary ...   \n",
              "1  CONSTRUCTION           CONSTRUCTION       Summary    The pur...   \n",
              "2  CONSTRUCTION           CONSTRUCTION             Experience  ...   \n",
              "3  CONSTRUCTION           CONCRETE CONSTRUCTION         Summary...   \n",
              "4  CONSTRUCTION           CONSTRUCTION WORK         Career Over...   \n",
              "\n",
              "                                          anonymized  \\\n",
              "0  ## Anonymized Resume\\n\\n**CONSTRUCTION Executi...   \n",
              "1  ## ANONYMIZED RESUME\\n\\n**Summary**  \\nThe pur...   \n",
              "2  ## Anonymized Resume\\n\\n**CONSTRUCTION Experie...   \n",
              "3  ## Anonymized Resume\\n\\n**CONCRETE CONSTRUCTIO...   \n",
              "4  ## Anonymized Resume\\n\\n**CONSTRUCTION WORK**\\...   \n",
              "\n",
              "                                         reformatted  \\\n",
              "0  ```markdown\\n[Candidate Name]\\n\\n## Executive ...   \n",
              "1  ```markdown\\n## [Candidate Name]\\n\\n**Summary*...   \n",
              "2  ```markdown\\n## [Candidate Name]\\n\\n**CONSTRUC...   \n",
              "3  ```markdown\\n## [Candidate Name]\\n\\n**CONCRETE...   \n",
              "4  ```markdown\\n## [Candidate Name]\\n\\n**CONSTRUC...   \n",
              "\n",
              "                                           localized  \n",
              "0  ```markdown\\n[Candidate Name]\\n\\n## Executive ...  \n",
              "1  ```markdown\\n## [Candidate Name]\\n\\n**Summary*...  \n",
              "2  ```markdown\\n## [Candidate Name]\\n\\n**CONSTRUC...  \n",
              "3  ```markdown\\n## [Candidate Name]\\n\\n**CONCRETE...  \n",
              "4  ```markdown\\n## [Candidate Name]\\n\\n**CONSTRUC...  "
            ]
          },
          "execution_count": 17,
          "metadata": {},
          "output_type": "execute_result"
        }
      ],
      "source": [
        "# Create empty columns in the dataframe for the new keys\n",
        "for key in processed_resumes[0].keys():\n",
        "    if key not in sector_resumes.columns:\n",
        "        sector_resumes[key] = None\n",
        "# Fill the new columns with the processed resume data\n",
        "for k in processed_resumes:\n",
        "    for key in processed_resumes[k].keys():\n",
        "        sector_resumes.loc[sector_resumes.index == k, key] = processed_resumes[k][key]\n",
        "sector_resumes.head(5)"
      ]
    },
    {
      "cell_type": "code",
      "execution_count": 18,
      "id": "e4c0e38b",
      "metadata": {},
      "outputs": [],
      "source": [
        "# Save the processed resumes to a new CSV file\n",
        "os.makedirs(\"data/processed\", exist_ok=True)\n",
        "sector_resumes.to_csv(f\"data/processed/{SECTOR.lower()}_resumes.csv\", index=False)"
      ]
    },
    {
      "cell_type": "code",
      "execution_count": null,
      "id": "92aa51f1",
      "metadata": {},
      "outputs": [],
      "source": [
        "# # Save the processed resumes to a new CSV file\n",
        "# os.makedirs(\"data/processed\", exist_ok=True)\n",
        "# sampled_resumes.to_csv(\"data/processed/resumes.csv\", index=False)"
      ]
    },
    {
      "cell_type": "markdown",
      "id": "fa60ae04",
      "metadata": {},
      "source": [
        "## Post-processing - Resume"
      ]
    },
    {
      "cell_type": "code",
      "execution_count": null,
      "id": "d721d751",
      "metadata": {},
      "outputs": [],
      "source": [
        "import pandas as pd\n",
        "from pathlib import Path\n",
        "import re \n",
        "\n",
        "\n",
        "def clean_text(text):\n",
        "    # remove multiple newlines\n",
        "    text = re.sub(r'\\n+', '\\n', text)\n",
        "    # remove multiple spaces\n",
        "    text = re.sub(r' +', ' ', text)\n",
        "    # strip leading and trailing whitespace\n",
        "    text = text.strip()\n",
        "    # remove triple backticks and the word markdown\n",
        "    text = text.replace(\"```\", \"\").replace(\"markdown\", \"\")\n",
        "    # remove first and last newlines\n",
        "    text = text.lstrip('\\n').rstrip('\\n')\n",
        "    # replace Candidate Name with CANDIDATE NAME\n",
        "    text = text.replace(\"Candidate Name\", \"CANDIDATE NAME\")\n",
        "    return text\n",
        "\n",
        "\n",
        "resume_df = pd.read_csv(Path(\"data/processed/resumes.csv\"))\n",
        "resume_df['localized'] = resume_df['localized'].apply(clean_text)\n",
        "# drop resume, anonymized, and reformatted columns, rename localized to resume\n",
        "resume_df = resume_df.drop(columns=['resume', 'anonymized', 'reformatted']).rename(columns={'localized': 'resume'})\n",
        "resume_df.head()"
      ]
    },
    {
      "cell_type": "markdown",
      "id": "ea9fc1f4",
      "metadata": {},
      "source": [
        "## Job Processing"
      ]
    },
    {
      "cell_type": "code",
      "execution_count": null,
      "id": "dad1ac10",
      "metadata": {},
      "outputs": [],
      "source": [
        "import kagglehub\n",
        "import os\n",
        "from pathlib import Path\n",
        "\n",
        "os.environ[\"KAGGLEHUB_CACHE\"] = str(Path.cwd() / \"data\" / \"kagglehub\")\n",
        "\n",
        "# Download latest version\n",
        "path = kagglehub.dataset_download(\"marcocavaco/scraped-job-descriptions\")\n",
        "\n",
        "print(\"Path to dataset files:\", path)\n",
        "\n",
        "import pandas as pd\n",
        "df = pd.read_csv(path + \"/JD_data.csv\", index_col=0)\n",
        "df['description'] = df['description'].apply(lambda x: x[3:-3])\n",
        "df.head()"
      ]
    },
    {
      "cell_type": "code",
      "execution_count": null,
      "id": "4461e52f",
      "metadata": {},
      "outputs": [],
      "source": [
        "print(df['major_job'].unique(), len(df['major_job'].unique()))\n",
        "print(df.ISCO.unique(), len(df.ISCO.unique()))\n",
        "print(df['job'].value_counts())\n",
        "\n",
        "# for i in range(9):\n",
        "    # print(\" \".join(df.iloc[i].position.split(\" \")[:-1]),'\\t', df.iloc[i].job)\n",
        "    # print(df.iloc[i].description[3:-3].replace(\". \", \".\\n\"))\n",
        "    # print()"
      ]
    },
    {
      "cell_type": "code",
      "execution_count": null,
      "id": "1ba8590d",
      "metadata": {},
      "outputs": [],
      "source": [
        "# Sample a random row per unique job\n",
        "sampled_jobs = df.groupby('job').apply(lambda x: x.sample(1, random_state=42)).reset_index(drop=True)\n",
        "sampled_jobs.rename(columns={'description': 'job_description', \n",
        "                             'job': 'job_type', \n",
        "                             'major_job': 'job_classification'}, inplace=True)\n",
        "sampled_jobs.drop(columns=['location', 'ISCO'], inplace=True)\n",
        "sampled_jobs.head(5)"
      ]
    },
    {
      "cell_type": "code",
      "execution_count": null,
      "id": "dee0ad50",
      "metadata": {},
      "outputs": [],
      "source": [
        "d = sampled_jobs.iloc[0]\n",
        "print(d)"
      ]
    },
    {
      "cell_type": "code",
      "execution_count": null,
      "id": "c4bd5183",
      "metadata": {},
      "outputs": [],
      "source": [
        "# from src.utils.pipeline_utils import job_pipeline\n",
        "\n",
        "# job_dct = job_pipeline(job_classification=d['job_classification'], \n",
        "#                        job_type=d['job_type'], \n",
        "#                        position=d['position'], \n",
        "#                        job_description=d['job_description'])\n",
        "# print(job_dct)"
      ]
    },
    {
      "cell_type": "code",
      "execution_count": null,
      "id": "70a7192f",
      "metadata": {},
      "outputs": [],
      "source": [
        "subsampled_jobs = sampled_jobs.sample(2, random_state=42).reset_index(drop=True)\n",
        "subsampled_jobs.head(2)"
      ]
    },
    {
      "cell_type": "code",
      "execution_count": null,
      "id": "d4da2cce",
      "metadata": {},
      "outputs": [],
      "source": [
        "from src.utils.pipeline_utils import batch_job_pipeline\n",
        "\n",
        "batch_results = batch_job_pipeline(sampled_jobs)"
      ]
    },
    {
      "cell_type": "code",
      "execution_count": null,
      "id": "be5015b0",
      "metadata": {},
      "outputs": [],
      "source": [
        "len(batch_results), list(batch_results.keys())[:5]"
      ]
    },
    {
      "cell_type": "code",
      "execution_count": null,
      "id": "c39c9d9d",
      "metadata": {},
      "outputs": [],
      "source": [
        "# Add the processed job descriptions to the sampled_jobs dataframe as new columns\n",
        "for key in batch_results[list(batch_results.keys())[0]].keys():\n",
        "    if key not in sampled_jobs.columns:\n",
        "        sampled_jobs[key] = None\n",
        "# Fill the new columns with the processed job data\n",
        "for job_id in batch_results:\n",
        "    for key in batch_results[job_id].keys():\n",
        "        sampled_jobs.loc[sampled_jobs.index == int(job_id), key] = batch_results[job_id][key]\n",
        "sampled_jobs.drop(columns=['job_id'], inplace=True)\n",
        "sampled_jobs.head(5)"
      ]
    },
    {
      "cell_type": "code",
      "execution_count": null,
      "id": "dd344c05",
      "metadata": {},
      "outputs": [],
      "source": [
        "# save the sampled_jobs to a csv file\n",
        "import os\n",
        "import pandas as pd\n",
        "os.makedirs(\"data/processed\", exist_ok=True)\n",
        "sampled_jobs.to_csv(\"data/processed/sampled_jobs.csv\", index=False)"
      ]
    },
    {
      "cell_type": "markdown",
      "id": "3019475f",
      "metadata": {},
      "source": [
        "## Post-processing - Job"
      ]
    },
    {
      "cell_type": "code",
      "execution_count": null,
      "id": "87c59b9d",
      "metadata": {},
      "outputs": [],
      "source": [
        "import pandas as pd\n",
        "import re \n",
        "\n",
        "def clean_text(text):\n",
        "    # remove multiple newlines\n",
        "    text = re.sub(r'\\n+', '\\n', text)\n",
        "    # remove multiple spaces\n",
        "    text = re.sub(r' +', ' ', text)\n",
        "    # strip leading and trailing whitespace\n",
        "    text = text.strip()\n",
        "    # remove triple backticks and the word markdown\n",
        "    text = text.replace(\"```\", \"\").replace(\"markdown\", \"\")\n",
        "    # remove first and last newlines\n",
        "    text = text.lstrip('\\n').rstrip('\\n')\n",
        "    return text\n",
        "\n",
        "results_df = pd.read_csv(\"data/processed/sampled_jobs.csv\", index_col=0)\n",
        "results_df['company_criteria'] = results_df['company_criteria'].apply(clean_text)\n",
        "results_df['previous_hires'] = results_df['previous_hires'].apply(clean_text)\n",
        "results_df.head()"
      ]
    },
    {
      "cell_type": "code",
      "execution_count": null,
      "id": "8d5064a9",
      "metadata": {},
      "outputs": [],
      "source": []
    },
    {
      "cell_type": "code",
      "execution_count": null,
      "id": "b583c171",
      "metadata": {},
      "outputs": [],
      "source": []
    }
  ],
  "metadata": {
    "kernelspec": {
      "display_name": "hiring-agent",
      "language": "python",
      "name": "python3"
    },
    "language_info": {
      "codemirror_mode": {
        "name": "ipython",
        "version": 3
      },
      "file_extension": ".py",
      "mimetype": "text/x-python",
      "name": "python",
      "nbconvert_exporter": "python",
      "pygments_lexer": "ipython3",
      "version": "3.11.13"
    }
  },
  "nbformat": 4,
  "nbformat_minor": 5
}
