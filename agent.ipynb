{
 "cells": [
  {
   "cell_type": "code",
   "execution_count": 53,
   "id": "c5c976bb",
   "metadata": {},
   "outputs": [
    {
     "name": "stdout",
     "output_type": "stream",
     "text": [
      "Path to dataset files: /Users/socialaistudio/Code/hiring_agent/data/kagglehub/datasets/marcocavaco/scraped-job-descriptions/versions/1\n"
     ]
    }
   ],
   "source": [
    "import kagglehub\n",
    "import os\n",
    "from pathlib import Path\n",
    "\n",
    "os.environ[\"KAGGLEHUB_CACHE\"] = str(Path.cwd() / \"data\" / \"kagglehub\")\n",
    "\n",
    "# Download latest version\n",
    "path = kagglehub.dataset_download(\"marcocavaco/scraped-job-descriptions\")\n",
    "\n",
    "print(\"Path to dataset files:\", path)"
   ]
  },
  {
   "cell_type": "code",
   "execution_count": 54,
   "id": "bf58890b",
   "metadata": {},
   "outputs": [
    {
     "data": {
      "text/html": [
       "<div>\n",
       "<style scoped>\n",
       "    .dataframe tbody tr th:only-of-type {\n",
       "        vertical-align: middle;\n",
       "    }\n",
       "\n",
       "    .dataframe tbody tr th {\n",
       "        vertical-align: top;\n",
       "    }\n",
       "\n",
       "    .dataframe thead th {\n",
       "        text-align: right;\n",
       "    }\n",
       "</style>\n",
       "<table border=\"1\" class=\"dataframe\">\n",
       "  <thead>\n",
       "    <tr style=\"text-align: right;\">\n",
       "      <th></th>\n",
       "      <th>ISCO</th>\n",
       "      <th>major_job</th>\n",
       "      <th>job</th>\n",
       "      <th>position</th>\n",
       "      <th>location</th>\n",
       "      <th>description</th>\n",
       "    </tr>\n",
       "  </thead>\n",
       "  <tbody>\n",
       "    <tr>\n",
       "      <th>0</th>\n",
       "      <td>21</td>\n",
       "      <td>SCIENCE AND ENGINEERING PROFESSIONALS</td>\n",
       "      <td>physicist</td>\n",
       "      <td>Accelerator Physicist id54315</td>\n",
       "      <td>Villigen PSI, Aargau</td>\n",
       "      <td>[' You have an academic degree in physics or e...</td>\n",
       "    </tr>\n",
       "    <tr>\n",
       "      <th>1</th>\n",
       "      <td>21</td>\n",
       "      <td>SCIENCE AND ENGINEERING PROFESSIONALS</td>\n",
       "      <td>physicist</td>\n",
       "      <td>Applied Physicist (Computing) (EP-LBC-2021-125...</td>\n",
       "      <td>Geneva</td>\n",
       "      <td>[' Be in charge of the development of applicat...</td>\n",
       "    </tr>\n",
       "    <tr>\n",
       "      <th>2</th>\n",
       "      <td>21</td>\n",
       "      <td>SCIENCE AND ENGINEERING PROFESSIONALS</td>\n",
       "      <td>physicist</td>\n",
       "      <td>Accelerator Physicist (BE-ABP-LNO-2021-122-LD)...</td>\n",
       "      <td>Geneva</td>\n",
       "      <td>[' Contribute to the maintenance and developme...</td>\n",
       "    </tr>\n",
       "    <tr>\n",
       "      <th>3</th>\n",
       "      <td>21</td>\n",
       "      <td>SCIENCE AND ENGINEERING PROFESSIONALS</td>\n",
       "      <td>physicist</td>\n",
       "      <td>Medical Devices Physicist</td>\n",
       "      <td>Newton, Cambridgeshire</td>\n",
       "      <td>[' Agency: Newton Colmore Consulting Reference...</td>\n",
       "    </tr>\n",
       "    <tr>\n",
       "      <th>4</th>\n",
       "      <td>21</td>\n",
       "      <td>SCIENCE AND ENGINEERING PROFESSIONALS</td>\n",
       "      <td>physicist</td>\n",
       "      <td>Fluidics Physicist</td>\n",
       "      <td>Cambridge</td>\n",
       "      <td>[' Agency: Newton Colmore Consulting Reference...</td>\n",
       "    </tr>\n",
       "  </tbody>\n",
       "</table>\n",
       "</div>"
      ],
      "text/plain": [
       "   ISCO                              major_job        job  \\\n",
       "0    21  SCIENCE AND ENGINEERING PROFESSIONALS  physicist   \n",
       "1    21  SCIENCE AND ENGINEERING PROFESSIONALS  physicist   \n",
       "2    21  SCIENCE AND ENGINEERING PROFESSIONALS  physicist   \n",
       "3    21  SCIENCE AND ENGINEERING PROFESSIONALS  physicist   \n",
       "4    21  SCIENCE AND ENGINEERING PROFESSIONALS  physicist   \n",
       "\n",
       "                                            position                location  \\\n",
       "0                      Accelerator Physicist id54315    Villigen PSI, Aargau   \n",
       "1  Applied Physicist (Computing) (EP-LBC-2021-125...                  Geneva   \n",
       "2  Accelerator Physicist (BE-ABP-LNO-2021-122-LD)...                  Geneva   \n",
       "3                          Medical Devices Physicist  Newton, Cambridgeshire   \n",
       "4                                 Fluidics Physicist               Cambridge   \n",
       "\n",
       "                                         description  \n",
       "0  [' You have an academic degree in physics or e...  \n",
       "1  [' Be in charge of the development of applicat...  \n",
       "2  [' Contribute to the maintenance and developme...  \n",
       "3  [' Agency: Newton Colmore Consulting Reference...  \n",
       "4  [' Agency: Newton Colmore Consulting Reference...  "
      ]
     },
     "execution_count": 54,
     "metadata": {},
     "output_type": "execute_result"
    }
   ],
   "source": [
    "import pandas as pd\n",
    "df = pd.read_csv(path + \"/JD_data.csv\", index_col=0)\n",
    "df.head()"
   ]
  },
  {
   "cell_type": "code",
   "execution_count": 57,
   "id": "f51b79ac",
   "metadata": {},
   "outputs": [
    {
     "name": "stdout",
     "output_type": "stream",
     "text": [
      "['SCIENCE AND ENGINEERING PROFESSIONALS'\n",
      " 'BUSINESS AND ADMINISTRATION ASSOCIATE PROFESSIONALS'\n",
      " 'TEACHING PROFESSIONALS' 'HEALTH ASSOCIATE PROFESSIONALS'\n",
      " 'SCIENCE AND ENGINEERING ASSOCIATE PROFESSIONALS' 'HEALTH PROFESSIONALS'\n",
      " 'MARKET-ORIENTED SKILLED AGRICULTURAL WORKERS'\n",
      " 'DRIVERS AND MOBILE PLANT OPERATORS'\n",
      " 'BUSINESS AND ADMINISTRATION PROFESSIONALS' 'SALES WORKERS'\n",
      " 'INFORMATION AND COMMUNICATIONS TECHNICIANS' 'CUSTOMER SERVICES CLERKS'\n",
      " 'INFORMATION AND COMMUNICATIONS TECHNOLOGY PROFESSIONALS'\n",
      " 'PROTECTIVE SERVICES WORKERS' 'ADMINISTRATIVE AND COMMERCIAL MANAGERS'\n",
      " 'CLEANERS AND HELPERS'] 16\n",
      "[21 33 23 32 31 22 61 83 24 52 35 42 25 54 12 91] 16\n",
      "job\n",
      "supervisor             84\n",
      "inspection engineer    72\n",
      "veterinary surgeon     57\n",
      "bus driver             55\n",
      "pharmacist             54\n",
      "                       ..\n",
      "immunologist           10\n",
      "lender                 10\n",
      "speech therapist       10\n",
      "system programmer      10\n",
      "nutritionist           10\n",
      "Name: count, Length: 159, dtype: int64\n"
     ]
    }
   ],
   "source": [
    "print(df['major_job'].unique(), len(df['major_job'].unique()))\n",
    "print(df.ISCO.unique(), len(df.ISCO.unique()))\n",
    "print(df['job'].value_counts())"
   ]
  },
  {
   "cell_type": "code",
   "execution_count": 58,
   "id": "6cf24a76",
   "metadata": {},
   "outputs": [
    {
     "name": "stdout",
     "output_type": "stream",
     "text": [
      "Accelerator Physicist \t physicist\n",
      "Applied Physicist (Computing) (EP-LBC-2021-125-LD) \t physicist\n",
      "Accelerator Physicist (BE-ABP-LNO-2021-122-LD) \t physicist\n",
      "Medical Devices \t physicist\n",
      "Fluidics \t physicist\n",
      "Graduate Experimental Engineering \t physicist\n",
      "Magnet Engineer / Senior Magnet Engineer / \t physicist\n",
      "Magnet Engineer / Senior Magnet Engineer / \t physicist\n",
      "Magnet Engineer / Senior Magnet Engineer / \t physicist\n"
     ]
    }
   ],
   "source": [
    "for i in range(9):\n",
    "    print(\" \".join(df.iloc[i].position.split(\" \")[:-1]),'\\t', df.iloc[i].job)\n",
    "    # print(df.iloc[i].description[3:-3].replace(\". \", \".\\n\"))\n",
    "    # print()"
   ]
  },
  {
   "cell_type": "markdown",
   "id": "6a7698d9",
   "metadata": {},
   "source": [
    "## Resume"
   ]
  },
  {
   "cell_type": "code",
   "execution_count": 59,
   "id": "60e691cd",
   "metadata": {},
   "outputs": [
    {
     "name": "stdout",
     "output_type": "stream",
     "text": [
      "Path to dataset files: /Users/socialaistudio/Code/hiring_agent/data/kagglehub/datasets/snehaanbhawal/resume-dataset/versions/1\n"
     ]
    }
   ],
   "source": [
    "path = kagglehub.dataset_download(\"snehaanbhawal/resume-dataset\")\n",
    "\n",
    "print(\"Path to dataset files:\", path)"
   ]
  },
  {
   "cell_type": "code",
   "execution_count": 60,
   "id": "074cca60",
   "metadata": {},
   "outputs": [
    {
     "data": {
      "text/html": [
       "<div>\n",
       "<style scoped>\n",
       "    .dataframe tbody tr th:only-of-type {\n",
       "        vertical-align: middle;\n",
       "    }\n",
       "\n",
       "    .dataframe tbody tr th {\n",
       "        vertical-align: top;\n",
       "    }\n",
       "\n",
       "    .dataframe thead th {\n",
       "        text-align: right;\n",
       "    }\n",
       "</style>\n",
       "<table border=\"1\" class=\"dataframe\">\n",
       "  <thead>\n",
       "    <tr style=\"text-align: right;\">\n",
       "      <th></th>\n",
       "      <th>Category</th>\n",
       "      <th>resume</th>\n",
       "    </tr>\n",
       "  </thead>\n",
       "  <tbody>\n",
       "    <tr>\n",
       "      <th>0</th>\n",
       "      <td>HR</td>\n",
       "      <td>HR ADMINISTRATOR/MARKETING ASSOCIATE\\...</td>\n",
       "    </tr>\n",
       "    <tr>\n",
       "      <th>1</th>\n",
       "      <td>HR</td>\n",
       "      <td>HR SPECIALIST, US HR OPERATIONS      ...</td>\n",
       "    </tr>\n",
       "    <tr>\n",
       "      <th>2</th>\n",
       "      <td>HR</td>\n",
       "      <td>HR DIRECTOR       Summary      Over 2...</td>\n",
       "    </tr>\n",
       "    <tr>\n",
       "      <th>3</th>\n",
       "      <td>HR</td>\n",
       "      <td>HR SPECIALIST       Summary    Dedica...</td>\n",
       "    </tr>\n",
       "    <tr>\n",
       "      <th>4</th>\n",
       "      <td>HR</td>\n",
       "      <td>HR MANAGER         Skill Highlights  ...</td>\n",
       "    </tr>\n",
       "  </tbody>\n",
       "</table>\n",
       "</div>"
      ],
      "text/plain": [
       "  Category                                             resume\n",
       "0       HR           HR ADMINISTRATOR/MARKETING ASSOCIATE\\...\n",
       "1       HR           HR SPECIALIST, US HR OPERATIONS      ...\n",
       "2       HR           HR DIRECTOR       Summary      Over 2...\n",
       "3       HR           HR SPECIALIST       Summary    Dedica...\n",
       "4       HR           HR MANAGER         Skill Highlights  ..."
      ]
     },
     "execution_count": 60,
     "metadata": {},
     "output_type": "execute_result"
    }
   ],
   "source": [
    "resume_df = pd.read_csv(path + \"/Resume/resume.csv\")\n",
    "resume_df.drop(columns=['ID', 'Resume_html'], inplace=True)\n",
    "resume_df.rename(columns={'Resume_str': 'resume'}, inplace=True)\n",
    "resume_df = resume_df[['Category', 'resume']]\n",
    "resume_df.head()"
   ]
  },
  {
   "cell_type": "code",
   "execution_count": 61,
   "id": "e9d2a9c3",
   "metadata": {},
   "outputs": [
    {
     "data": {
      "text/plain": [
       "(array(['HR', 'DESIGNER', 'INFORMATION-TECHNOLOGY', 'TEACHER', 'ADVOCATE',\n",
       "        'BUSINESS-DEVELOPMENT', 'HEALTHCARE', 'FITNESS', 'AGRICULTURE',\n",
       "        'BPO', 'SALES', 'CONSULTANT', 'DIGITAL-MEDIA', 'AUTOMOBILE',\n",
       "        'CHEF', 'FINANCE', 'APPAREL', 'ENGINEERING', 'ACCOUNTANT',\n",
       "        'CONSTRUCTION', 'PUBLIC-RELATIONS', 'BANKING', 'ARTS', 'AVIATION'],\n",
       "       dtype=object),\n",
       " 24)"
      ]
     },
     "execution_count": 61,
     "metadata": {},
     "output_type": "execute_result"
    }
   ],
   "source": [
    "# resume_df.iloc[0].resume\n",
    "resume_df.Category.unique(), len(resume_df.Category.unique())"
   ]
  },
  {
   "cell_type": "code",
   "execution_count": 108,
   "id": "4f9a4bc7",
   "metadata": {},
   "outputs": [
    {
     "data": {
      "text/plain": [
       "StringPromptValue(text='Given a list of resume and job categories, assign which resume category aligns with the job category.\\n\\nResume Categories:\\nSoftware Engineer, Data Scientist, Marketing Manager\\n\\nJob Categories:\\nSoftware Engineer, Data Scientist, Marketing Manager\\n\\nProvide your answer in the format:\\nresume_category: job_category\\n\\nDo not generate additional text\\n')"
      ]
     },
     "execution_count": 108,
     "metadata": {},
     "output_type": "execute_result"
    }
   ],
   "source": [
    "\n",
    "# create an LLM agent\n",
    "from langchain.agents import LLMSingleActionAgent\n",
    "from langchain.llms import OpenAI\n",
    "from langchain.prompts import PromptTemplate\n",
    "\n",
    "# initialize the agent\n",
    "llm = OpenAI(temperature=0.0,\n",
    "            model=\"gpt-4o-mini\",\n",
    "            base_url=\"https://openrouter.ai/api/v1\",\n",
    "            api_key=os.environ.get(\"OPENROUTER_API_KEY\"))\n",
    "\n",
    "# define the agent's instruction\n",
    "prompt = \"\"\"Given a list of resume and job categories, assign which resume category aligns with the job category.\n",
    "\n",
    "Resume Categories:\n",
    "{resume_categories}\n",
    "\n",
    "Job Categories:\n",
    "{job_categories}\n",
    "\n",
    "Provide your answer in the format:\n",
    "resume_category: job_category\n",
    "\n",
    "Do not generate additional text\n",
    "\"\"\"\n",
    "\n",
    "# add the variables to the agent\n",
    "prompt = PromptTemplate.from_template(prompt)\n",
    "\n",
    "prompt.invoke({\n",
    "    \"resume_categories\": \"Software Engineer, Data Scientist, Marketing Manager\",\n",
    "    \"job_categories\": \"Software Engineer, Data Scientist, Marketing Manager\"\n",
    "})\n",
    "    "
   ]
  },
  {
   "cell_type": "code",
   "execution_count": 109,
   "id": "cd819ccd",
   "metadata": {},
   "outputs": [],
   "source": [
    "from langchain_openai import ChatOpenAI\n",
    "from langchain.schema import StrOutputParser\n",
    "from langchain.schema.runnable import Runnable\n",
    "\n",
    "llm = ChatOpenAI(\n",
    "    model=\"gpt-4o-mini\",\n",
    "    base_url=\"https://openrouter.ai/api/v1\",\n",
    "    api_key=os.environ.get(\"OPENROUTER_API_KEY\"),\n",
    "    temperature=0.0,\n",
    ")\n",
    "\n",
    "chain: Runnable = prompt | llm | StrOutputParser()\n",
    "\n",
    "output = chain.invoke({\"resume_categories\": list(resume_df.Category.unique()), \"job_categories\": list(df['major_job'].unique())})"
   ]
  },
  {
   "cell_type": "code",
   "execution_count": 110,
   "id": "0547ee2b",
   "metadata": {},
   "outputs": [
    {
     "name": "stdout",
     "output_type": "stream",
     "text": [
      "HR: BUSINESS AND ADMINISTRATION PROFESSIONALS  \n",
      "DESIGNER: SCIENCE AND ENGINEERING PROFESSIONALS  \n",
      "INFORMATION-TECHNOLOGY: INFORMATION AND COMMUNICATIONS TECHNOLOGY PROFESSIONALS  \n",
      "TEACHER: TEACHING PROFESSIONALS  \n",
      "ADVOCATE: PROTECTIVE SERVICES WORKERS  \n",
      "BUSINESS-DEVELOPMENT: BUSINESS AND ADMINISTRATION ASSOCIATE PROFESSIONALS  \n",
      "HEALTHCARE: HEALTH PROFESSIONALS  \n",
      "FITNESS: HEALTH ASSOCIATE PROFESSIONALS  \n",
      "AGRICULTURE: MARKET-ORIENTED SKILLED AGRICULTURAL WORKERS  \n",
      "BPO: CUSTOMER SERVICES CLERKS  \n",
      "SALES: SALES WORKERS  \n",
      "CONSULTANT: ADMINISTRATIVE AND COMMERCIAL MANAGERS  \n",
      "DIGITAL-MEDIA: INFORMATION AND COMMUNICATIONS TECHNICIANS  \n",
      "AUTOMOBILE: DRIVERS AND MOBILE PLANT OPERATORS  \n",
      "CHEF: CLEANERS AND HELPERS  \n",
      "FINANCE: BUSINESS AND ADMINISTRATION PROFESSIONALS  \n",
      "APPAREL: SCIENCE AND ENGINEERING ASSOCIATE PROFESSIONALS  \n",
      "ENGINEERING: SCIENCE AND ENGINEERING PROFESSIONALS  \n",
      "ACCOUNTANT: BUSINESS AND ADMINISTRATION PROFESSIONALS  \n",
      "CONSTRUCTION: SCIENCE AND ENGINEERING PROFESSIONALS  \n",
      "PUBLIC-RELATIONS: BUSINESS AND ADMINISTRATION PROFESSIONALS  \n",
      "BANKING: BUSINESS AND ADMINISTRATION PROFESSIONALS  \n",
      "ARTS: SCIENCE AND ENGINEERING PROFESSIONALS  \n",
      "AVIATION: DRIVERS AND MOBILE PLANT OPERATORS  \n"
     ]
    }
   ],
   "source": [
    "print(output)"
   ]
  },
  {
   "cell_type": "code",
   "execution_count": 111,
   "id": "66329a96",
   "metadata": {},
   "outputs": [
    {
     "data": {
      "text/plain": [
       "{'HR': 'BUSINESS AND ADMINISTRATION PROFESSIONALS',\n",
       " 'DESIGNER': 'SCIENCE AND ENGINEERING PROFESSIONALS',\n",
       " 'INFORMATION-TECHNOLOGY': 'INFORMATION AND COMMUNICATIONS TECHNOLOGY PROFESSIONALS',\n",
       " 'TEACHER': 'TEACHING PROFESSIONALS',\n",
       " 'ADVOCATE': 'PROTECTIVE SERVICES WORKERS',\n",
       " 'BUSINESS-DEVELOPMENT': 'BUSINESS AND ADMINISTRATION ASSOCIATE PROFESSIONALS',\n",
       " 'HEALTHCARE': 'HEALTH PROFESSIONALS',\n",
       " 'FITNESS': 'HEALTH ASSOCIATE PROFESSIONALS',\n",
       " 'AGRICULTURE': 'MARKET-ORIENTED SKILLED AGRICULTURAL WORKERS',\n",
       " 'BPO': 'CUSTOMER SERVICES CLERKS',\n",
       " 'SALES': 'SALES WORKERS',\n",
       " 'CONSULTANT': 'ADMINISTRATIVE AND COMMERCIAL MANAGERS',\n",
       " 'DIGITAL-MEDIA': 'INFORMATION AND COMMUNICATIONS TECHNICIANS',\n",
       " 'AUTOMOBILE': 'DRIVERS AND MOBILE PLANT OPERATORS',\n",
       " 'CHEF': 'CLEANERS AND HELPERS',\n",
       " 'FINANCE': 'BUSINESS AND ADMINISTRATION PROFESSIONALS',\n",
       " 'APPAREL': 'SCIENCE AND ENGINEERING ASSOCIATE PROFESSIONALS',\n",
       " 'ENGINEERING': 'SCIENCE AND ENGINEERING PROFESSIONALS',\n",
       " 'ACCOUNTANT': 'BUSINESS AND ADMINISTRATION PROFESSIONALS',\n",
       " 'CONSTRUCTION': 'SCIENCE AND ENGINEERING PROFESSIONALS',\n",
       " 'PUBLIC-RELATIONS': 'BUSINESS AND ADMINISTRATION PROFESSIONALS',\n",
       " 'BANKING': 'BUSINESS AND ADMINISTRATION PROFESSIONALS',\n",
       " 'ARTS': 'SCIENCE AND ENGINEERING PROFESSIONALS',\n",
       " 'AVIATION': 'DRIVERS AND MOBILE PLANT OPERATORS'}"
      ]
     },
     "execution_count": 111,
     "metadata": {},
     "output_type": "execute_result"
    }
   ],
   "source": [
    "mapping_dct = {x:y for x, y in map(lambda v: v.strip().split(\": \"), output.split(\"\\n\"))}\n",
    "mapping_dct"
   ]
  },
  {
   "cell_type": "markdown",
   "id": "fa60ae04",
   "metadata": {},
   "source": [
    "## Run"
   ]
  },
  {
   "cell_type": "code",
   "execution_count": 131,
   "id": "d721d751",
   "metadata": {},
   "outputs": [
    {
     "data": {
      "text/plain": [
       "(\"Refuel the vehicles on their return to the depot Sweep the vehicle to a high standard Wash the vehicle – using the mechanical wash Park the vehicle safely in the depot ', ' Hold a full car licence Ideally hold a PCV or LGV licence\",\n",
       " \"AIRCRAFT SALES       Professional Summary    I expect to associate myself with a professionally driven, well-respected organization by pursuing a challenging, responsible, dynamic and rewarding career and applying my academic knowledge, expertise, skills and enthusiasm; which will assist my career development and contribute effectively to the progress of the organization and our society as well. Areas of expertise include investigative policy research and Statistical Analysis, proven ability to interact effectively with employee and the public in a professional manner. Great team leader with strong organizational skills and formidable work ethic. Seventeen years construction management experience, with industrial and commercial construction jobs valued from four million to hundreds of millions of dollars. Last six years of construction as an owner operator of an Industrial Welding Company. Retired from Ironworkers Local Union 118 Sacramento on December 7, 2001. Went back to school to Utah Valley University in 2005 received a Bachelor degree as a Professional Pilot and A Master's Degree from Arizona State University on December 19, 2012 with a Master's of Science Technology Aviation Management (Human Factors). Supervisory Skills Able to multitask in different areas:Crew resource managementGroup team leader Aviation Research and Statistical Analysis Task oriented to help improve safety and efficiency in day \\xad to \\xad day operations. Proficient with the FAA and Department of Transportation standards and regulations that cover Flight rules (FAR and CFR (s)) and Public Airport policy Competent in computer data processing concepts Proficient with verbal communication and visual communication techniques for various programs. Professionally educated to gather information about the human abilities, limitations and characteristics and applying it to tools, machines, systems, tasks, jobs, policies, and their environments to produce a safe, comfortable and effective work environment. Competent to better understand how humans are able to safely and efficiently integrate with technology. With this knowledge one can translate this experience into design, training, standards and policies and to help reinforce individual performances Well versed with, SPSS, Excel, Power Point and some R.       Skills                    Work History     02/2013   to   Current     Aircraft Sales      Company Name   –   City  ,   State      Research aircraft in various advertisement media.  Investigate currency of aircraft within the FAA aircraft data registry.  Research and investigate if each aircraft is compliant to FAA (FARS and CFR)/DOT standards.  Research and analyze each component on each aircraft.  Research and investigate aircraft bluebook for price differentials.  Help create an appraisal for each aircraft.  Photo each aircraft and their respective log books for the use of advertisement and to make sure the records are current with proper maintenance and proper weight and balance.  Help with advertisement and facilitate the sale of each aircraft.        01/2012   to   05/2012     Internship      Company Name   –   City  ,   State      Airport Safety Inspections (Daily, Weekly and Monthly)   \\xa0Investigate, research and analysis of loss of customer retention and fuel purchase income.   Uphold current State Aviation Laws Revision and New Aviation tax laws Investigate, research and analysis of loss of customer retention and fuel purchase income.      Authored a new written policy for Line Crews Safety Gear (Vest) and designed them Hess Steel Company \\xad C- 60 Licenses.         Owner - Operator      Company Name          Supervised and directed crews from four to twenty\\xadseven ironworkers.         Certified Commercial Welder       Completed OSHA Safety Training Course.  UNION IRONWORKERS: LOCAL 118, SACRAMENTO CALIFORNIA Supervised and managed crews from 3 to 40 men.  Supervise Jobs from tens of thousands to multi\\xadmillion dollars buildings.  Supervised on \\xad Powerhouses, High Rise buildings, Construction of State Prisons, Highways, Water Treatment Plant, Bridges, and Airports, etc.  Commercial construction Industrial construction Plan reading Work Breakdown Structures (WBS), Coordinate ground-up projects Subcontractor recruitment/supervision Enforcement of codes and safety regulations Read structural engineering drawings Job site supervision & safety Workflow & project scheduling.         Education          Graduate Degree  :       Arizona State University (ASU)   -   City  ,   State               Master  :   Science Technology Aviation Management - Human Factors    GPA:   GPA: 3.5/4.0   Science Technology Aviation Management - Human Factors GPA: 3.5/4.0 Applied Project - (FAA Sponsored) - Title: INVESTIGATION AND ANALYSIS OF 14 CFR PART 67 AND AME GUIDE 47 BEFORE AND AFTER POLICY CHANGE Course Work 33 Units:Aviation LawAviation Labor RelationsInternational AviationAviation Safety and Human FactorLaw and EthicsIntermed StatisticsAirport Planning and DesignResearch Techniques and Applications      4 2010     Bachelor of Science  :   Aviation Science Aviation     Utah Valley University (UVU)   -   City  ,   State     GPA:   GPA: 3.67/4.0   Aviation Science GPA: 3.67/4.0 Aviation Professional Pilot Program · Course Works of 120 Units plus General Ed.:Air Transportation ManagementAviation LawCrew Resource Management/Human FactorsSafety and Professional SeminarsIntroduction to Aviation SecurityAviation Insurance/Risk ManagementCorporate Aviation ManagementAirport ManagementGround Training:Private, Instrument, Commercial, Ground InstructorFlight Training:Private, Instrument, Commercial, Flight InstructorTheory of Instruction      4 2008     Certified InstructorAir Traffic Control  :   General Education     Columbia College   -     State     GPA:   GPA: 3.52/4.0   General Education GPA: 3.52/4.0      12 1982       General Education     American River College   -   City  ,   State     GPA:   GPA: 3.2 /4.0GP   General Education GPA: 3.2 /4.0GP       Accomplishments      Private Pilot Certificate Instrument Certificate Single Engine Commercial Rating Twin Commercial Rating Ground Instructor Rating 20 Hours Sim Time for King Air B200.  Train at Mather Air field with Sim Check.  Welding Certificates.  6010.  7018.  202.  211 Nickel High production flux core.  232.        Skills    Photo, balance, Bridges, C, Dec 7, estimating, Instructor, Instruction, Insurance, Labor Relations, leadership, Law, Works, reading, Read, recruitment, Research, Risk Management, Safety, scheduling, Seminars, Statistics, supervision, tax, Transportation, Welding, Workflow, written      Additional Information      PERSONAL DATA AND ACCOMPLISHMENTS: Brown Belt in Tae Kwon Do Coached Pop Warner Football team to a Super Bowl Championship. Went back to school in 2005 \\xad 2012 and received my Bachelor and Master's degree in Aviation Enjoy the outdoors, spending time with my family, Scuba Diving (since 1975), Flying General Aviation Airplanes Restore Antique Cars Avid Motorcycle Rider. Volunteer with Tuolumne Recreation Department Coaching \\xad Soccer, Baseball, and Football. Coached Middle School Boys/Girls Basketball (6th, 7th, & 8th graders)\")"
      ]
     },
     "execution_count": 131,
     "metadata": {},
     "output_type": "execute_result"
    }
   ],
   "source": [
    "import random\n",
    "random.seed(42)\n",
    "\n",
    "# Choose a random job description and resume for each resume_category\n",
    "\n",
    "test_set = []\n",
    "\n",
    "for resume_cat, job in mapping_dct.items():\n",
    "    random_resume = resume_df[resume_df['Category'] == resume_cat].sample(n = 1, random_state=42).iloc[0]['resume'].strip()\n",
    "    random_job = df[df['major_job'] == job].sample(n = 1, random_state=42).iloc[0]['description'][3:-3]\n",
    "    test_set.append((random_job, random_resume))\n",
    "\n",
    "test_set[-1]\n",
    "    "
   ]
  },
  {
   "cell_type": "code",
   "execution_count": null,
   "id": "46b502b4",
   "metadata": {},
   "outputs": [],
   "source": []
  }
 ],
 "metadata": {
  "kernelspec": {
   "display_name": "hiring-agent",
   "language": "python",
   "name": "python3"
  },
  "language_info": {
   "codemirror_mode": {
    "name": "ipython",
    "version": 3
   },
   "file_extension": ".py",
   "mimetype": "text/x-python",
   "name": "python",
   "nbconvert_exporter": "python",
   "pygments_lexer": "ipython3",
   "version": "3.11.13"
  }
 },
 "nbformat": 4,
 "nbformat_minor": 5
}
